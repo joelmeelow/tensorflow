{
 "cells": [
  {
   "cell_type": "code",
   "execution_count": 1,
   "id": "7c77af65",
   "metadata": {},
   "outputs": [],
   "source": [
    "import tensorflow as tf\n",
    "import numpy as np"
   ]
  },
  {
   "cell_type": "markdown",
   "id": "e83d5361",
   "metadata": {},
   "source": [
    "LOADING THE NPZ FILES"
   ]
  },
  {
   "cell_type": "code",
   "execution_count": 2,
   "id": "29aa3bdf",
   "metadata": {},
   "outputs": [
    {
     "name": "stderr",
     "output_type": "stream",
     "text": [
      "C:\\Users\\HP\\AppData\\Local\\Temp\\ipykernel_11552\\870731627.py:5: DeprecationWarning: `np.float` is a deprecated alias for the builtin `float`. To silence this warning, use `float` by itself. Doing this will not modify any behavior and is safe. If you specifically wanted the numpy scalar type, use `np.float64` here.\n",
      "Deprecated in NumPy 1.20; for more details and guidance: https://numpy.org/devdocs/release/1.20.0-notes.html#deprecations\n",
      "  train_inputs = npz[\"inputs\"].astype(np.float)\n",
      "C:\\Users\\HP\\AppData\\Local\\Temp\\ipykernel_11552\\870731627.py:6: DeprecationWarning: `np.int` is a deprecated alias for the builtin `int`. To silence this warning, use `int` by itself. Doing this will not modify any behavior and is safe. When replacing `np.int`, you may wish to use e.g. `np.int64` or `np.int32` to specify the precision. If you wish to review your current use, check the release note link for additional information.\n",
      "Deprecated in NumPy 1.20; for more details and guidance: https://numpy.org/devdocs/release/1.20.0-notes.html#deprecations\n",
      "  train_targets = npz[\"targets\"].astype(np.int)\n",
      "C:\\Users\\HP\\AppData\\Local\\Temp\\ipykernel_11552\\870731627.py:10: DeprecationWarning: `np.float` is a deprecated alias for the builtin `float`. To silence this warning, use `float` by itself. Doing this will not modify any behavior and is safe. If you specifically wanted the numpy scalar type, use `np.float64` here.\n",
      "Deprecated in NumPy 1.20; for more details and guidance: https://numpy.org/devdocs/release/1.20.0-notes.html#deprecations\n",
      "  test_inputs = npz[\"inputs\"].astype(np.float)\n",
      "C:\\Users\\HP\\AppData\\Local\\Temp\\ipykernel_11552\\870731627.py:11: DeprecationWarning: `np.int` is a deprecated alias for the builtin `int`. To silence this warning, use `int` by itself. Doing this will not modify any behavior and is safe. When replacing `np.int`, you may wish to use e.g. `np.int64` or `np.int32` to specify the precision. If you wish to review your current use, check the release note link for additional information.\n",
      "Deprecated in NumPy 1.20; for more details and guidance: https://numpy.org/devdocs/release/1.20.0-notes.html#deprecations\n",
      "  test_targets = npz[\"targets\"].astype(np.int)\n",
      "C:\\Users\\HP\\AppData\\Local\\Temp\\ipykernel_11552\\870731627.py:15: DeprecationWarning: `np.float` is a deprecated alias for the builtin `float`. To silence this warning, use `float` by itself. Doing this will not modify any behavior and is safe. If you specifically wanted the numpy scalar type, use `np.float64` here.\n",
      "Deprecated in NumPy 1.20; for more details and guidance: https://numpy.org/devdocs/release/1.20.0-notes.html#deprecations\n",
      "  validation_inputs = npz[\"inputs\"].astype(np.float)\n",
      "C:\\Users\\HP\\AppData\\Local\\Temp\\ipykernel_11552\\870731627.py:16: DeprecationWarning: `np.int` is a deprecated alias for the builtin `int`. To silence this warning, use `int` by itself. Doing this will not modify any behavior and is safe. When replacing `np.int`, you may wish to use e.g. `np.int64` or `np.int32` to specify the precision. If you wish to review your current use, check the release note link for additional information.\n",
      "Deprecated in NumPy 1.20; for more details and guidance: https://numpy.org/devdocs/release/1.20.0-notes.html#deprecations\n",
      "  validation_targets = npz[\"targets\"].astype(np.int)\n"
     ]
    }
   ],
   "source": [
    "#importing our npz files\n",
    "\n",
    "npz = np.load(\"books_data_train.npz\")\n",
    "\n",
    "train_inputs = npz[\"inputs\"].astype(np.float)\n",
    "train_targets = npz[\"targets\"].astype(np.int)\n",
    "\n",
    "npz = np.load(\"books_data_test.npz\")\n",
    "\n",
    "test_inputs = npz[\"inputs\"].astype(np.float)\n",
    "test_targets = npz[\"targets\"].astype(np.int)\n",
    "\n",
    "npz = np.load(\"books_data_validation.npz\")\n",
    "\n",
    "validation_inputs = npz[\"inputs\"].astype(np.float)\n",
    "validation_targets = npz[\"targets\"].astype(np.int)\n",
    "\n",
    "\n",
    "\n",
    "\n"
   ]
  },
  {
   "cell_type": "markdown",
   "id": "248e7015",
   "metadata": {},
   "source": [
    "MODEL"
   ]
  },
  {
   "cell_type": "code",
   "execution_count": 6,
   "id": "03434f30",
   "metadata": {},
   "outputs": [
    {
     "name": "stdout",
     "output_type": "stream",
     "text": [
      "Epoch 1/100\n",
      "113/113 - 2s - loss: 0.3673 - accuracy: 0.8735 - val_loss: 0.2702 - val_accuracy: 0.9034 - 2s/epoch - 16ms/step\n",
      "Epoch 2/100\n",
      "113/113 - 1s - loss: 0.2717 - accuracy: 0.8999 - val_loss: 0.2549 - val_accuracy: 0.9070 - 601ms/epoch - 5ms/step\n",
      "Epoch 3/100\n",
      "113/113 - 1s - loss: 0.2522 - accuracy: 0.9068 - val_loss: 0.2468 - val_accuracy: 0.9084 - 602ms/epoch - 5ms/step\n",
      "Epoch 4/100\n",
      "113/113 - 1s - loss: 0.2450 - accuracy: 0.9077 - val_loss: 0.2350 - val_accuracy: 0.9091 - 601ms/epoch - 5ms/step\n",
      "Epoch 5/100\n",
      "113/113 - 1s - loss: 0.2397 - accuracy: 0.9073 - val_loss: 0.2334 - val_accuracy: 0.9134 - 602ms/epoch - 5ms/step\n",
      "Epoch 6/100\n",
      "113/113 - 1s - loss: 0.2371 - accuracy: 0.9081 - val_loss: 0.2283 - val_accuracy: 0.9112 - 624ms/epoch - 6ms/step\n",
      "Epoch 7/100\n",
      "113/113 - 1s - loss: 0.2344 - accuracy: 0.9096 - val_loss: 0.2269 - val_accuracy: 0.9119 - 623ms/epoch - 6ms/step\n",
      "Epoch 8/100\n",
      "113/113 - 1s - loss: 0.2322 - accuracy: 0.9097 - val_loss: 0.2237 - val_accuracy: 0.9141 - 626ms/epoch - 6ms/step\n",
      "Epoch 9/100\n",
      "113/113 - 1s - loss: 0.2298 - accuracy: 0.9103 - val_loss: 0.2228 - val_accuracy: 0.9148 - 583ms/epoch - 5ms/step\n",
      "Epoch 10/100\n",
      "113/113 - 1s - loss: 0.2298 - accuracy: 0.9104 - val_loss: 0.2222 - val_accuracy: 0.9162 - 602ms/epoch - 5ms/step\n",
      "Epoch 11/100\n",
      "113/113 - 1s - loss: 0.2278 - accuracy: 0.9110 - val_loss: 0.2232 - val_accuracy: 0.9155 - 604ms/epoch - 5ms/step\n",
      "Epoch 12/100\n",
      "113/113 - 1s - loss: 0.2274 - accuracy: 0.9111 - val_loss: 0.2211 - val_accuracy: 0.9148 - 579ms/epoch - 5ms/step\n",
      "Epoch 13/100\n",
      "113/113 - 1s - loss: 0.2281 - accuracy: 0.9104 - val_loss: 0.2251 - val_accuracy: 0.9162 - 609ms/epoch - 5ms/step\n",
      "Epoch 14/100\n",
      "113/113 - 1s - loss: 0.2260 - accuracy: 0.9109 - val_loss: 0.2296 - val_accuracy: 0.9126 - 581ms/epoch - 5ms/step\n"
     ]
    },
    {
     "data": {
      "text/plain": [
       "<keras.callbacks.History at 0x28ebd045e40>"
      ]
     },
     "execution_count": 6,
     "metadata": {},
     "output_type": "execute_result"
    }
   ],
   "source": [
    "input_size = 10\n",
    "output_size = 2\n",
    "hidden_layer_size = 50\n",
    "\n",
    "model = tf.keras.Sequential([\n",
    "                            tf.keras.layers.Dense(hidden_layer_size, activation=\"relu\"),\n",
    "                            tf.keras.layers.Dense(hidden_layer_size, activation=\"relu\"),\n",
    "                            tf.keras.layers.Dense(output_size, activation=\"softmax\")\n",
    "                            ])\n",
    "\n",
    "#choosing an optimizer and a loss function\n",
    "model.compile(optimizer=\"adam\", loss=\"sparse_categorical_crossentropy\", metrics=[\"accuracy\"])\n",
    "\n",
    "batch_size = 100\n",
    "max_epochs = 100\n",
    "\n",
    "early_stopping = tf.keras.callbacks.EarlyStopping(patience=2)\n",
    "\n",
    "model.fit(train_inputs, train_targets,\n",
    "         batch_size = batch_size,\n",
    "         epochs = max_epochs,\n",
    "          callbacks=[early_stopping],\n",
    "         validation_data=(validation_inputs, validation_targets),\n",
    "         verbose=2)"
   ]
  },
  {
   "cell_type": "markdown",
   "id": "b6918ab8",
   "metadata": {},
   "source": [
    "TESTING THE MODEL"
   ]
  },
  {
   "cell_type": "code",
   "execution_count": 7,
   "id": "7e0963c7",
   "metadata": {},
   "outputs": [
    {
     "name": "stdout",
     "output_type": "stream",
     "text": [
      "45/45 [==============================] - 0s 5ms/step - loss: 0.2488 - accuracy: 0.9021\n"
     ]
    }
   ],
   "source": [
    "#we test the model using the test loss and test accuracy\n",
    "test_loss, test_accuracy = model.evaluate(test_inputs, test_targets)\n",
    "#the test accuracy is 0.90 which is close to thne validation accuracy"
   ]
  },
  {
   "cell_type": "code",
   "execution_count": null,
   "id": "6d00d707",
   "metadata": {},
   "outputs": [],
   "source": []
  }
 ],
 "metadata": {
  "kernelspec": {
   "display_name": "py3-TF2.0",
   "language": "python",
   "name": "py3-tf2.0"
  },
  "language_info": {
   "codemirror_mode": {
    "name": "ipython",
    "version": 3
   },
   "file_extension": ".py",
   "mimetype": "text/x-python",
   "name": "python",
   "nbconvert_exporter": "python",
   "pygments_lexer": "ipython3",
   "version": "3.10.10"
  }
 },
 "nbformat": 4,
 "nbformat_minor": 5
}
