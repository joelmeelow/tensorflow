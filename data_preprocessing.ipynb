{
 "cells": [
  {
   "cell_type": "code",
   "execution_count": 39,
   "id": "173240b6",
   "metadata": {},
   "outputs": [],
   "source": [
    "import numpy as np\n",
    "from sklearn import preprocessing\n"
   ]
  },
  {
   "cell_type": "code",
   "execution_count": 23,
   "id": "7acbb745",
   "metadata": {},
   "outputs": [],
   "source": [
    "df = np.loadtxt('C:Documents/books_data.csv', delimiter = ',')"
   ]
  },
  {
   "cell_type": "code",
   "execution_count": 24,
   "id": "542e436a",
   "metadata": {},
   "outputs": [
    {
     "data": {
      "text/plain": [
       "array([[9.9400e+02, 1.6200e+03, 1.6200e+03, ..., 5.0000e+00, 9.2000e+01,\n",
       "        0.0000e+00],\n",
       "       [1.1430e+03, 2.1600e+03, 2.1600e+03, ..., 0.0000e+00, 0.0000e+00,\n",
       "        0.0000e+00],\n",
       "       [2.0590e+03, 2.1600e+03, 2.1600e+03, ..., 0.0000e+00, 3.8800e+02,\n",
       "        0.0000e+00],\n",
       "       ...,\n",
       "       [3.1134e+04, 2.1600e+03, 2.1600e+03, ..., 0.0000e+00, 0.0000e+00,\n",
       "        0.0000e+00],\n",
       "       [3.2832e+04, 1.6200e+03, 1.6200e+03, ..., 0.0000e+00, 9.0000e+01,\n",
       "        0.0000e+00],\n",
       "       [2.5100e+02, 1.6740e+03, 3.3480e+03, ..., 0.0000e+00, 0.0000e+00,\n",
       "        1.0000e+00]])"
      ]
     },
     "execution_count": 24,
     "metadata": {},
     "output_type": "execute_result"
    }
   ],
   "source": [
    "df"
   ]
  },
  {
   "cell_type": "markdown",
   "id": "0c38fcd4",
   "metadata": {},
   "source": [
    "extract inputs and targets"
   ]
  },
  {
   "cell_type": "code",
   "execution_count": 25,
   "id": "0faec639",
   "metadata": {},
   "outputs": [],
   "source": [
    "#to extract the input columns\n",
    "input_unscaled = df[:,1:-1]\n",
    "target_un = df[:,-1]"
   ]
  },
  {
   "cell_type": "markdown",
   "id": "ec491ef4",
   "metadata": {},
   "source": [
    "Balance the dataset"
   ]
  },
  {
   "cell_type": "code",
   "execution_count": 26,
   "id": "25476fde",
   "metadata": {},
   "outputs": [],
   "source": [
    "#balance the dataset\n",
    "#count the targets that are 1\n",
    "num_of_one = int(np.sum(target_un))\n",
    "#initializing the  zero counter to zero\n",
    "zero_counter = 0\n",
    "#creating an empty list for numbers to be removed\n",
    "removed = []\n",
    "\n",
    "\n",
    "for i in range(target_un.shape[0]):\n",
    "    if target_un[i] == 0:\n",
    "        zero_counter =+ 1\n",
    "        if zero_counter > num_of_one:\n",
    "            removed.append[i]\n",
    "            \n",
    "            \n",
    "#to remove the uneven dataset\n",
    "input_unscaled_equal = np.delete(input_unscaled, removed, axis=0)\n",
    "target_equal = np.delete(target_un, removed, axis=0)\n",
    "\n",
    "\n"
   ]
  },
  {
   "cell_type": "code",
   "execution_count": 27,
   "id": "28b86bc2",
   "metadata": {},
   "outputs": [
    {
     "data": {
      "text/plain": [
       "array([0., 0., 0., ..., 0., 0., 1.])"
      ]
     },
     "execution_count": 27,
     "metadata": {},
     "output_type": "execute_result"
    }
   ],
   "source": [
    "target_equal\n"
   ]
  },
  {
   "cell_type": "markdown",
   "id": "8d4d02dd",
   "metadata": {},
   "source": [
    "Standardize the inputs"
   ]
  },
  {
   "cell_type": "code",
   "execution_count": 29,
   "id": "39092821",
   "metadata": {},
   "outputs": [],
   "source": [
    "#we standadize the inputs using preprocessing\n",
    "scaled_inputs = preprocessing.scale(input_unscaled_equal)"
   ]
  },
  {
   "cell_type": "code",
   "execution_count": 31,
   "id": "581a4474",
   "metadata": {},
   "outputs": [
    {
     "data": {
      "text/plain": [
       "array([[ 0.05694432, -0.08950406,  2.56031917, ...,  3.81035339,\n",
       "        10.44134984,  0.34085525],\n",
       "       [ 1.12768719,  0.7351559 , -0.359686  , ..., -0.51173244,\n",
       "        -0.14873032, -0.70217541],\n",
       "       [ 1.12768719,  0.7351559 , -0.359686  , ..., -0.51173244,\n",
       "        -0.14873032,  3.69669302],\n",
       "       ...,\n",
       "       [ 1.12768719,  0.7351559 , -0.19543571, ..., -0.51173244,\n",
       "        -0.14873032, -0.70217541],\n",
       "       [ 0.05694432, -0.08950406, -0.359686  , ...,  1.14725   ,\n",
       "        -0.14873032,  0.31818067],\n",
       "       [ 0.1640186 ,  2.5494078 , -0.359686  , ..., -0.51173244,\n",
       "        -0.14873032, -0.70217541]])"
      ]
     },
     "execution_count": 31,
     "metadata": {},
     "output_type": "execute_result"
    }
   ],
   "source": [
    "scaled_inputs"
   ]
  },
  {
   "cell_type": "markdown",
   "id": "7f0460c0",
   "metadata": {},
   "source": [
    "Shuffle the data (to make sure the dataset is randomly distributed after batching)"
   ]
  },
  {
   "cell_type": "code",
   "execution_count": 33,
   "id": "881e0e68",
   "metadata": {},
   "outputs": [],
   "source": [
    "shuffled_indices = np.arange(scaled_inputs.shape[0])\n",
    "np.random.shuffle(shuffled_indices)\n",
    "\n",
    "shuffled_inputs = scaled_inputs[shuffled_indices]\n",
    "shuffled_targets = target_equal[shuffled_indices]"
   ]
  },
  {
   "cell_type": "markdown",
   "id": "b51dfb6c",
   "metadata": {},
   "source": [
    "spit the dataset into train, validation, and test"
   ]
  },
  {
   "cell_type": "code",
   "execution_count": 36,
   "id": "421a9028",
   "metadata": {},
   "outputs": [
    {
     "name": "stdout",
     "output_type": "stream",
     "text": [
      "1807.0 11267 16.037987041803497\n",
      "207.0 1408 14.701704545454545\n",
      "223.0 1409 15.826827537260469\n"
     ]
    }
   ],
   "source": [
    "#using the shape attribute to extract the number of rows\n",
    "whole_data = shuffled_inputs.shape[0]\n",
    "\n",
    "#spliting the rows to 80:10:10 for train:validation:test\n",
    "train_samples_count = int(0.8*whole_data)\n",
    "validation_samples_count = int(0.1*whole_data)\n",
    "test_samples_count = whole_data - train_samples_count - validation_samples_count\n",
    "\n",
    "#using slicing to assign the portion of row to each category\n",
    "train_inputs = shuffled_inputs[:train_samples_count]\n",
    "train_targets = shuffled_targets[:train_samples_count]\n",
    "\n",
    "validation_inputs = shuffled_inputs[train_samples_count:train_samples_count+validation_samples_count]\n",
    "validation_targets = shuffled_targets[train_samples_count:train_samples_count+validation_samples_count]\n",
    "\n",
    "\n",
    "test_inputs = shuffled_inputs[train_samples_count+validation_samples_count:]\n",
    "test_targets = shuffled_targets[train_samples_count+validation_samples_count:]\n",
    "\n",
    "\n",
    "print(np.sum(train_targets), train_samples_count, np.sum(train_targets) / train_samples_count*100)\n",
    "print(np.sum(validation_targets), validation_samples_count, np.sum(validation_targets) / validation_samples_count*100)\n",
    "print(np.sum(test_targets), test_samples_count, np.sum(test_targets) / test_samples_count*100)"
   ]
  },
  {
   "cell_type": "markdown",
   "id": "c9807463",
   "metadata": {},
   "source": [
    "Save the three datasets in *.npz file format"
   ]
  },
  {
   "cell_type": "code",
   "execution_count": 37,
   "id": "e09fdafa",
   "metadata": {},
   "outputs": [],
   "source": [
    "np.savez(\"books_data_train\", inputs=train_inputs, targets=train_targets)\n",
    "np.savez(\"books_data_validation\", inputs=validation_inputs, targets=validation_targets)\n",
    "np.savez(\"books_data_test\", inputs=test_inputs, targets=test_targets)"
   ]
  },
  {
   "cell_type": "code",
   "execution_count": null,
   "id": "7f8d4e1d",
   "metadata": {},
   "outputs": [],
   "source": []
  }
 ],
 "metadata": {
  "kernelspec": {
   "display_name": "Python 3 (ipykernel)",
   "language": "python",
   "name": "python3"
  },
  "language_info": {
   "codemirror_mode": {
    "name": "ipython",
    "version": 3
   },
   "file_extension": ".py",
   "mimetype": "text/x-python",
   "name": "python",
   "nbconvert_exporter": "python",
   "pygments_lexer": "ipython3",
   "version": "3.9.12"
  }
 },
 "nbformat": 4,
 "nbformat_minor": 5
}
